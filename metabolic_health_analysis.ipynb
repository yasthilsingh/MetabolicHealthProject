{
 "cells": [
  {
   "cell_type": "markdown",
   "id": "d57e4297-c80d-438a-b2a6-1906ec9a9e1a",
   "metadata": {},
   "source": "# 🔬 Impact of Physical Activity on Metabolic Health"
  },
  {
   "cell_type": "code",
   "id": "a97570150c27fe22",
   "metadata": {
    "ExecuteTime": {
     "end_time": "2025-05-15T22:16:15.921762Z",
     "start_time": "2025-05-15T22:16:15.555485Z"
    }
   },
   "source": [
    "!pip freeze | grep -E \"pandas|numpy|matplotlib|seaborn|ipywidgets\""
   ],
   "outputs": [
    {
     "name": "stdout",
     "output_type": "stream",
     "text": [
      "ipywidgets==8.1.7\r\n",
      "matplotlib==3.10.3\r\n",
      "matplotlib-inline==0.1.7\r\n",
      "numpy==2.2.5\r\n",
      "pandas==2.2.3\r\n",
      "seaborn==0.13.2\r\n"
     ]
    }
   ],
   "execution_count": 1
  },
  {
   "cell_type": "markdown",
   "id": "7fa1c364-4007-4df4-957a-aa2a499792c4",
   "metadata": {},
   "source": [
    "## Dataset Loading & Cleaning"
   ]
  },
  {
   "cell_type": "code",
   "id": "4678204b-2ff3-4478-94e8-ade52b51552f",
   "metadata": {
    "ExecuteTime": {
     "end_time": "2025-05-15T22:16:15.937233Z",
     "start_time": "2025-05-15T22:16:15.933944Z"
    }
   },
   "source": [
    "import pandas as pd\n",
    "import numpy as np\n",
    "import matplotlib.pyplot as plt\n",
    "from matplotlib.lines import Line2D\n",
    "import seaborn as sns\n",
    "import ipywidgets as widgets\n",
    "from IPython.display import display\n",
    "import os"
   ],
   "outputs": [],
   "execution_count": 2
  },
  {
   "cell_type": "code",
   "id": "6444beb3-3553-4e94-b3ee-53a34e49575e",
   "metadata": {
    "ExecuteTime": {
     "end_time": "2025-05-15T22:16:17.130891Z",
     "start_time": "2025-05-15T22:16:17.126818Z"
    }
   },
   "source": [
    "# get all files into a list\n",
    "path = 'Datafiles'\n",
    "fileNames = os.listdir(path)\n",
    "fileNames\n",
    "\n",
    "# get all files ending in .xpt\n",
    "xpt_list = [file for file in fileNames if file.endswith('.xpt')]\n",
    "xpt_list"
   ],
   "outputs": [
    {
     "data": {
      "text/plain": [
       "['HSCRP_L.xpt',\n",
       " 'CBC_L (1).xpt',\n",
       " 'INS_L (1).xpt',\n",
       " 'GLU_L.xpt',\n",
       " 'DEMO_L.xpt',\n",
       " 'HDL_L.xpt',\n",
       " 'TCHOL_L.xpt',\n",
       " 'PAQ_L (1).xpt',\n",
       " 'GHB_L.xpt']"
      ]
     },
     "execution_count": 3,
     "metadata": {},
     "output_type": "execute_result"
    }
   ],
   "execution_count": 3
  },
  {
   "cell_type": "markdown",
   "id": "081b07c7-231c-45ed-9215-ea286be89755",
   "metadata": {},
   "source": [
    "## Step 1: Data Cleaning"
   ]
  },
  {
   "cell_type": "code",
   "execution_count": null,
   "id": "cd4e10a1-c6bc-4cd9-a838-2e0365599d74",
   "metadata": {
    "ExecuteTime": {
     "end_time": "2025-05-15T19:29:45.475023Z",
     "start_time": "2025-05-15T19:29:45.428603Z"
    }
   },
   "outputs": [],
   "source": [
    "# create a list of Pandas dataframes from the xpt files\n",
    "\n",
    "def convert_to_df(filename):\n",
    "    \"\"\"\n",
    "    create a function to convert the xpt file to a Pandas Dataframe:\n",
    "    \"\"\"\n",
    "    # use an f string to allow the function to access a the\n",
    "    # filename variable each time the function is called.\n",
    "    df = pd.read_sas(f'Datafiles/{filename}')\n",
    "    return df\n",
    "\n",
    "\n",
    "# Create a lookup dict for friendly names\n",
    "file_descriptions = {\n",
    "    \"PAQ_L.xpt\": \"Physical Activity Data\",\n",
    "    \"DEMO_L.xpt\": \"Demographics Data\",\n",
    "    \"GHB_L.xpt\":  \"Glycohemoglobin Data\",\n",
    "    \"GLU_L.xpt\":  \"Fasting Glucose Data\",\n",
    "    \"HDL_L.xpt\":  \"HDL Cholesterol Data\",\n",
    "    \"HSCRP_L.xpt\":\"High-Sensitivity CRP Data\",\n",
    "    \"INS_L.xpt\":  \"Insulin Data\",\n",
    "    \"TCHOL_L.xpt\":\"Total Cholesterol Data\",\n",
    "    \"CBC_L.xpt\":  \"Complete Blood Count Data\",\n",
    "}\n",
    "\n",
    "df_list = []\n",
    "\n",
    "# Load each file, store in df_list, and print descriptive info\n",
    "for i, fname in enumerate(xpt_list, start=1):\n",
    "    df = convert_to_df(fname)\n",
    "    df_list.append(df)\n",
    "    # retrieves a friendly label or returns \"Unknown file\" if it’s not in the dictionary.\n",
    "    friendly_name = file_descriptions.get(fname, \"Unknown file\")\n",
    "    print(f\"DataFrame {i} from '{friendly_name}' ({fname}): {df.shape}\")"
   ]
  },
  {
   "cell_type": "code",
   "execution_count": null,
   "id": "05d005d7-8cda-43aa-a315-6fe3ff2cb307",
   "metadata": {
    "ExecuteTime": {
     "end_time": "2025-05-15T19:29:46.189765Z",
     "start_time": "2025-05-15T19:29:46.162877Z"
    }
   },
   "outputs": [],
   "source": [
    "# merge dataframes on SEQN\n",
    "\n",
    "master_df = df_list[0]\n",
    "\n",
    "for df in df_list[1:]:\n",
    "    # Ensure drop overlapping columns\n",
    "    overlap_cols = master_df.columns.intersection(df.columns).drop('SEQN')\n",
    "    df = df.drop(columns = overlap_cols)\n",
    "    # merge on cleaned SEQN numbers\n",
    "    master_df = master_df.merge(df, on = 'SEQN', how ='inner')\n",
    "\n",
    "# function to check for missing values\n",
    "def summarize_missing(df):\n",
    "#     print(\"Missing values per column:\")\n",
    "    for col in df.columns:\n",
    "        num_missing = df[col].isna().sum()\n",
    "#         print(f\"{col}: {num_missing} missing values\")"
   ]
  },
  {
   "cell_type": "code",
   "execution_count": null,
   "id": "27703679-b140-45a7-973f-d53d4909a7a3",
   "metadata": {
    "ExecuteTime": {
     "end_time": "2025-05-15T19:29:46.965414Z",
     "start_time": "2025-05-15T19:29:46.957662Z"
    }
   },
   "outputs": [],
   "source": [
    "# Selecting columns:\n",
    "cols = [\n",
    "    # Basic Lab Variables\n",
    "    'SEQN', 'LBXGLU', 'LBXGH', 'LBDHDD', 'LBXTC', 'RIDAGEYR', 'RIAGENDR',\n",
    "\n",
    "    # Physical Activity Variables\n",
    "    'PAD790Q','PAD790U','PAD800','PAD810Q','PAD810U', 'PAD820', 'PAD680',\n",
    "\n",
    "    # Insulin\n",
    "    'LBXIN',\n",
    "\n",
    "    # High-sensitivity C-reactive protein\n",
    "    'LBXHSCRP'\n",
    "]\n",
    "\n",
    "# grab only those columns and make a true copy\n",
    "analysis_df = master_df[cols].copy()\n",
    "\n",
    "# safe to drop rows in place\n",
    "analysis_df.dropna(inplace=True)\n",
    "\n",
    "#analysis_df"
   ]
  },
  {
   "cell_type": "code",
   "execution_count": null,
   "id": "ac87ec95-7b96-4318-9477-85215ff14ec1",
   "metadata": {
    "ExecuteTime": {
     "end_time": "2025-05-15T19:29:47.441820Z",
     "start_time": "2025-05-15T19:29:47.435742Z"
    }
   },
   "outputs": [],
   "source": [
    "# Renaming selected columns for clarity:\n",
    "analysis_df.rename(columns={\n",
    "    'SEQN': 'ID',\n",
    "    'RIDAGEYR': 'Age',\n",
    "    'RIAGENDR': 'Male',\n",
    "    'LBXGLU': 'Fasting Glucose (mg/dl)',\n",
    "    'LBXGH': 'Glycohemoglobin (%)',\n",
    "    'LBDHDD': 'HDL Cholesterol (mg/dl)',\n",
    "    'LBXTC': 'Total Cholesterol (mg/dl)',\n",
    "    'LBXIN': 'Insulin (µU/mL)',\n",
    "    'LBXHSCRP': 'HS C-Reactive Protein (mg/L)',\n",
    "\n",
    "    # Physical Activity\n",
    "    'PAD790Q': 'Moderate Activity Frequency',\n",
    "    'PAD790U': 'Moderate Activity Frequency Unit',\n",
    "    'PAD800': 'Moderate Activity Duration',\n",
    "    'PAD810Q': 'Vigorous Activity Frequency',\n",
    "    'PAD810U': 'Vigorous Activity Frequency Unit',\n",
    "    'PAD820': 'Vigorous Activity Duration',\n",
    "    'PAD680': 'Total Time Sedentary Activities'\n",
    "}, inplace=True)\n",
    "\n",
    "# Convert Gender data values: # Map 1→1 (male), 2→0 (female);invalid codes->NaN\n",
    "\n",
    "# .map({<dict>}) uses a dict as a tool to describe how to change values \n",
    "# the keys represent the current values and the values of those keys \n",
    "# represent the changes that need to be made to the current values.\n",
    "analysis_df\n",
    "\n",
    "\n",
    "analysis_df['Male'] = analysis_df['Male'].map({1.0: 1, 2.0: 0})\n",
    "analysis_df['Male'] = analysis_df['Male'].astype('Int64')\n",
    "analysis_df['ID'] = analysis_df['ID'].astype('int')\n",
    "analysis_df['Age'] = analysis_df['Age'].astype('int')\n",
    "analysis_df.reset_index(drop = True, inplace = True)\n",
    "\n",
    "#analysis_df"
   ]
  },
  {
   "cell_type": "code",
   "execution_count": null,
   "id": "3f536ab25d38da3",
   "metadata": {
    "ExecuteTime": {
     "end_time": "2025-05-15T19:29:47.573067Z",
     "start_time": "2025-05-15T19:29:47.569272Z"
    }
   },
   "outputs": [],
   "source": [
    "def convert_to_weekly_activity(frequency, freq_unit, duration):\n",
    "    \"\"\"\n",
    "    Convert raw physical activity data to total weekly minutes of activity.\n",
    "\n",
    "    Parameters\n",
    "    ----------\n",
    "    frequency : float\n",
    "        Number of activity sessions (e.g., 3.0).\n",
    "    freq_unit : bytes\n",
    "        Unit of frequency stored as a byte string. Expected values:\n",
    "        - b'D' for daily\n",
    "        - b'W' for weekly\n",
    "        - b'M' for monthly\n",
    "        - b'Y' for yearly\n",
    "    duration : float\n",
    "        Duration of each session in minutes.\n",
    "\n",
    "    Returns\n",
    "    -------\n",
    "    float or None\n",
    "        Total weekly minutes of activity, rounded to 2 decimal places.\n",
    "        Returns None if input is missing, invalid, or results in an unrealistic total.\n",
    "\n",
    "    Notes\n",
    "    -----\n",
    "    - Filters out rows with missing values or implausible values (e.g., >300 min/session).\n",
    "    - Caps extreme totals (e.g., >10,000 min/week) to prevent outlier distortion.\n",
    "    - Byte strings are safely decoded into unit strings.\n",
    "    \"\"\"\n",
    "\n",
    "    # Return None if any required field is missing\n",
    "    if pd.isna(frequency) or pd.isna(duration) or pd.isna(freq_unit):\n",
    "        return None\n",
    "\n",
    "    # Sanity check for logical bounds\n",
    "    if frequency < 0 or duration < 0 or duration > 300:\n",
    "        return None\n",
    "\n",
    "    # Decode byte string (e.g., b'D') into readable string (e.g., 'D')\n",
    "    try:\n",
    "        unit_str = freq_unit.decode('utf-8').strip()\n",
    "    except Exception:\n",
    "        return None\n",
    "\n",
    "    # Convert to weekly frequency\n",
    "    if unit_str == 'D':      # Daily\n",
    "        freq_per_week = frequency * 7\n",
    "    elif unit_str == 'W':    # Weekly\n",
    "        freq_per_week = frequency\n",
    "    elif unit_str == 'M':    # Monthly\n",
    "        freq_per_week = (frequency * 12) / 52\n",
    "    elif unit_str == 'Y':    # Yearly\n",
    "        freq_per_week = frequency / 52\n",
    "    else:\n",
    "        return None  # Unexpected unit\n",
    "\n",
    "    # Compute total weekly minutes\n",
    "    total = freq_per_week * duration\n",
    "\n",
    "    MAX_WEEKLY_MINUTES = 2000  # About 4.75 hrs/day\n",
    "    return round(total, 2) if total <= MAX_WEEKLY_MINUTES else None"
   ]
  },
  {
   "cell_type": "code",
   "execution_count": null,
   "id": "8a8e1277-598a-4de2-8257-594031ec5881",
   "metadata": {
    "ExecuteTime": {
     "end_time": "2025-05-15T19:29:47.937364Z",
     "start_time": "2025-05-15T19:29:47.913080Z"
    }
   },
   "outputs": [],
   "source": [
    "# apply the covert to weekly function to the each of the activity type columns\n",
    "\n",
    "def preprocess_activity_columns(df):\n",
    "    if all(col in df.columns for col in [\n",
    "        'Moderate Activity Frequency', 'Moderate Activity Frequency Unit', 'Moderate Activity Duration',\n",
    "        'Vigorous Activity Frequency', 'Vigorous Activity Frequency Unit', 'Vigorous Activity Duration'\n",
    "    ]):\n",
    "        df['Moderate_Weekly_Minutes'] = df.apply(\n",
    "            lambda row: convert_to_weekly_activity(\n",
    "                row['Moderate Activity Frequency'],\n",
    "                row['Moderate Activity Frequency Unit'],\n",
    "                row['Moderate Activity Duration']\n",
    "            ), axis=1\n",
    "        )\n",
    "        df['Vigorous_Weekly_Minutes'] = df.apply(\n",
    "            lambda row: convert_to_weekly_activity(\n",
    "                row['Vigorous Activity Frequency'],\n",
    "                row['Vigorous Activity Frequency Unit'],\n",
    "                row['Vigorous Activity Duration']\n",
    "            ), axis=1\n",
    "        )\n",
    "        df['Total_Weekly_Mins'] = df['Moderate_Weekly_Minutes'] + df['Vigorous_Weekly_Minutes']\n",
    "        df['Meets_Goal'] = df['Total_Weekly_Mins'] >= 150\n",
    "\n",
    "        # Safely drop if present\n",
    "        columns_to_drop = [\n",
    "            'Moderate Activity Frequency',\n",
    "            'Moderate Activity Frequency Unit',\n",
    "            'Moderate Activity Duration',\n",
    "            'Vigorous Activity Frequency',\n",
    "            'Vigorous Activity Frequency Unit',\n",
    "            'Vigorous Activity Duration',\n",
    "        ]\n",
    "        df.drop(columns=[col for col in columns_to_drop if col in df.columns], inplace=True)\n",
    "    return df\n",
    "\n",
    "analysis_df = preprocess_activity_columns(analysis_df)\n",
    "\n",
    "# Create total weekly mins and add in a boole\n",
    "\n",
    "analysis_df['Total_Weekly_Mins'] = analysis_df['Moderate_Weekly_Minutes'] + analysis_df['Vigorous_Weekly_Minutes']\n",
    "analysis_df['Meets_Goal'] = analysis_df['Total_Weekly_Mins'] >= 150\n",
    "\n",
    "\n",
    "analysis_df.head()"
   ]
  },
  {
   "cell_type": "code",
   "execution_count": null,
   "id": "59b22c77-e99b-4cc4-bf4e-3a0af7c707bc",
   "metadata": {
    "ExecuteTime": {
     "end_time": "2025-05-15T19:29:48.088574Z",
     "start_time": "2025-05-15T19:29:48.083401Z"
    }
   },
   "outputs": [],
   "source": [
    "# Define columns to cap\n",
    "columns_to_cap = [\n",
    "    'Fasting Glucose (mg/dl)', 'Glycohemoglobin (%)', 'HDL Cholesterol (mg/dl)',\n",
    "    'Total Cholesterol (mg/dl)', 'Age', 'Total Time Sedentary Activities',\n",
    "    'Insulin (µU/mL)', 'HS C-Reactive Protein (mg/L)', 'Total_Weekly_Mins', 'Moderate_Weekly_Minutes', 'Vigorous_Weekly_Minutes'\n",
    "]\n",
    "\n",
    "# Cap values above 99th percentile\n",
    "for col in columns_to_cap:\n",
    "    upper_limit = analysis_df[col].quantile(0.99)\n",
    "    analysis_df[col] = np.where(analysis_df[col] > upper_limit, upper_limit, analysis_df[col])"
   ]
  },
  {
   "cell_type": "code",
   "execution_count": null,
   "id": "31b877339698bf7a",
   "metadata": {
    "ExecuteTime": {
     "end_time": "2025-05-15T19:29:48.413745Z",
     "start_time": "2025-05-15T19:29:48.286448Z"
    }
   },
   "outputs": [],
   "source": [
    "def analyze_dataframe(df, include_corr=False, return_summary=False):\n",
    "    \"\"\"\n",
    "    Analyze a numeric DataFrame: summarize statistics, detect outliers, and visualize via heatmap.\n",
    "\n",
    "    Parameters:\n",
    "    - df: pandas DataFrame with only numerical columns\n",
    "    - include_corr: if True, displays a correlation heatmap\n",
    "    - return_summary: if True, returns the summary DataFrame\n",
    "\n",
    "    Returns:\n",
    "    - summary DataFrame\n",
    "    \"\"\"\n",
    "    # Validate input\n",
    "    if not isinstance(df, pd.DataFrame):\n",
    "        raise ValueError(\"Input must be a pandas DataFrame.\")\n",
    "\n",
    "    numeric_df = df.select_dtypes(include=[float, int])\n",
    "    if numeric_df.empty:\n",
    "        raise ValueError(\"No numeric columns found in the DataFrame.\")\n",
    "\n",
    "    desc = numeric_df.describe().T\n",
    "\n",
    "    # Compute IQR and outlier bounds\n",
    "    desc['IQR'] = desc['75%'] - desc['25%']\n",
    "    desc['nulls'] = numeric_df.isnull().sum()\n",
    "    desc['n_unique'] = numeric_df.nunique()\n",
    "    desc['max_outlier'] = numeric_df.max() > (desc['75%'] + 1.5 * desc['IQR'])\n",
    "    desc['min_outlier'] = numeric_df.min() < (desc['25%'] - 1.5 * desc['IQR'])\n",
    "\n",
    "    # Select relevant columns for visualization\n",
    "    vis_df = desc[['mean', 'std', 'min', '25%', '50%', '75%', 'max', 'IQR', 'nulls', 'n_unique']].astype(float)\n",
    "\n",
    "    # Plot heatmap\n",
    "    plt.figure(figsize=(12, vis_df.shape[0] * 0.75))\n",
    "    sns.heatmap(vis_df,\n",
    "                annot=True,\n",
    "                cmap=\"Blues\",\n",
    "                fmt=\".2f\",\n",
    "                linecolor=\"white\",\n",
    "                linewidths=1,\n",
    "                cbar=False,\n",
    "                annot_kws={\"size\": 10})\n",
    "\n",
    "    plt.xticks(size=12)\n",
    "    plt.yticks(size=12, rotation=0)\n",
    "    plt.title(\"Descriptive Statistics & Outlier Detection\", size=14)\n",
    "    plt.show()\n",
    "\n",
    "    # correlation heatmap\n",
    "    if include_corr:\n",
    "        corr = numeric_df.corr()\n",
    "        plt.figure(figsize=(10, 8))\n",
    "        sns.heatmap(corr, annot=True, cmap=\"coolwarm\", fmt=\".2f\", linewidths=0.5)\n",
    "        plt.title(\"Correlation Matrix\", size=14)\n",
    "        plt.xticks(rotation=45)\n",
    "        plt.yticks(rotation=0)\n",
    "        plt.show()\n",
    "\n",
    "    if return_summary:\n",
    "        return desc\n",
    "\n",
    "analyze_dataframe(analysis_df)"
   ]
  },
  {
   "cell_type": "markdown",
   "id": "e64a14ce252140d1",
   "metadata": {},
   "source": [
    "### Inference Statistics"
   ]
  },
  {
   "cell_type": "code",
   "execution_count": null,
   "id": "a7c4e3fb93f7e812",
   "metadata": {
    "ExecuteTime": {
     "end_time": "2025-05-15T19:29:48.639589Z",
     "start_time": "2025-05-15T19:29:48.635702Z"
    }
   },
   "outputs": [],
   "source": [
    "def summarize_activity_vs_insulin(df, activity_col='Total_Weekly_Mins', insulin_col='Insulin (µU/mL)', goal=150):\n",
    "    \"\"\"\n",
    "    Summarize how insulin levels differ between users who meet vs. do not meet a weekly activity goal.\n",
    "\n",
    "    Parameters\n",
    "    ----------\n",
    "    df : pd.DataFrame\n",
    "        The dataset containing activity and insulin data.\n",
    "    activity_col : str\n",
    "        Column name for total weekly minutes of activity.\n",
    "    insulin_col : str\n",
    "        Column name for insulin measurements.\n",
    "    goal : int\n",
    "        Activity goal threshold (default = 150 minutes).\n",
    "\n",
    "    Returns\n",
    "    -------\n",
    "    dict\n",
    "        A dictionary with:\n",
    "            - percent_above\n",
    "            - percent_below\n",
    "            - mean_insulin_above\n",
    "            - mean_insulin_below\n",
    "            - delta_insulin\n",
    "    \"\"\"\n",
    "\n",
    "    if activity_col not in df.columns or insulin_col not in df.columns:\n",
    "        raise ValueError(f\"Columns '{activity_col}' or '{insulin_col}' not found in dataframe.\")\n",
    "\n",
    "    df = df.copy()\n",
    "    df['Meets_Goal'] = df[activity_col] >= goal\n",
    "\n",
    "    # Calculate percentages\n",
    "    # calc the % of users who met the 150 min target\n",
    "    percent_above = df['Meets_Goal'].mean() * 100\n",
    "    # calc the % of users who did not meet the 150 min target\n",
    "    percent_below = 100 - percent_above\n",
    "\n",
    "    # Mean insulin levels:\n",
    "\n",
    "    # mean insulin for those who met the goal\n",
    "    mean_insulin_above = df.loc[df['Meets_Goal'], insulin_col].mean()\n",
    "    # mean insulin for those who did not\n",
    "    mean_insulin_below = df.loc[~df['Meets_Goal'], insulin_col].mean()\n",
    "    delta_insulin = mean_insulin_above - mean_insulin_below\n",
    "\n",
    "    return {\n",
    "        \"percent_above\": round(percent_above, 2),\n",
    "        \"percent_below\": round(percent_below, 2),\n",
    "        \"mean_insulin_above\": round(mean_insulin_above, 2),\n",
    "        \"mean_insulin_below\": round(mean_insulin_below, 2),\n",
    "        \"delta_insulin\": round(delta_insulin, 2)\n",
    "    }\n",
    "\n",
    "print(summarize_activity_vs_insulin(analysis_df))\n"
   ]
  },
  {
   "cell_type": "markdown",
   "id": "9c03d5a8-c464-4c52-bce4-a2b7c1cf6f12",
   "metadata": {},
   "source": [
    "## Step 2: Feature Engineering"
   ]
  },
  {
   "cell_type": "markdown",
   "id": "827cf74d-c97a-4e5f-84aa-45db8a267c76",
   "metadata": {},
   "source": [
    "### Creating a SPLOM to understand general trends in data"
   ]
  },
  {
   "cell_type": "code",
   "execution_count": null,
   "id": "39b109d3-3d57-4e8a-95f0-c57494542814",
   "metadata": {
    "ExecuteTime": {
     "end_time": "2025-05-15T19:29:51.205347Z",
     "start_time": "2025-05-15T19:29:49.298714Z"
    }
   },
   "outputs": [],
   "source": [
    "# In sns.pairplot, if we want to color by Male (using the hue parameter), \n",
    "# Seaborn expects a categorical variable.\n",
    "analysis_df ['Male'] = analysis_df ['Male'].astype('category')\n",
    "\n",
    "#convert Age to int64\n",
    "analysis_df [\"Age\"] = analysis_df [\"Age\"].astype('int64')\n",
    "\n",
    "\n",
    "selected_cols = [\n",
    "    'Insulin (µU/mL)', 'Fasting Glucose (mg/dl)', \n",
    "    'Glycohemoglobin (%)', 'Moderate_Weekly_Minutes', \n",
    "    'Vigorous_Weekly_Minutes', 'Male'\n",
    "]\n",
    "\n",
    "sns.pairplot(\n",
    "    analysis_df[selected_cols], \n",
    "    hue='Male', \n",
    "    plot_kws={'alpha': 0.4, 's': 20}, \n",
    "    diag_kind='kde'\n",
    ")\n",
    "\n",
    "plt.tight_layout()\n",
    "plt.show()"
   ]
  },
  {
   "cell_type": "markdown",
   "id": "bad81961-b25d-40c1-8aaf-d572a8b6c1f8",
   "metadata": {},
   "source": [
    "### Heatmap to check correlations"
   ]
  },
  {
   "cell_type": "code",
   "execution_count": null,
   "id": "4e658172-0df4-4451-ba33-906908e695e6",
   "metadata": {
    "ExecuteTime": {
     "end_time": "2025-05-15T19:29:51.382856Z",
     "start_time": "2025-05-15T19:29:51.249392Z"
    }
   },
   "outputs": [],
   "source": [
    "def create_heatmap(corr_matrix, figsize=(10, 8), annot=True, cmap='RdBu'):\n",
    "    \"\"\"\n",
    "    Generates and returns a heatmap with an adjustable figure size.\n",
    "\n",
    "    Parameters:\n",
    "    -----------\n",
    "    corr_matrix : pd.DataFrame\n",
    "        The correlation matrix.\n",
    "    figsize : tuple\n",
    "        Size of the figure.\n",
    "    annot : bool\n",
    "        Whether to show values inside heatmap cells.\n",
    "    cmap : str\n",
    "        Color map\n",
    "    \"\"\"\n",
    "    plt.figure(figsize=figsize)\n",
    "\n",
    "    # Create upper triangle mask to reduce redundancy\n",
    "    mask = np.triu(np.ones_like(corr_matrix, dtype=bool))\n",
    "\n",
    "    sns.heatmap(\n",
    "        corr_matrix,\n",
    "        mask=mask,\n",
    "        cmap=cmap,\n",
    "        annot=annot,\n",
    "        fmt=\".2f\",\n",
    "        center=0,\n",
    "        vmin=-1,\n",
    "        vmax=1,\n",
    "        linewidths=0.5,\n",
    "        square=True\n",
    "    )\n",
    "\n",
    "    plt.title(\"Correlation Heatmap of Activity & Biomarkers\", fontsize=14, pad=20)\n",
    "    plt.xticks(rotation=45, ha='right')\n",
    "    plt.yticks(rotation=0)\n",
    "    plt.tight_layout()\n",
    "    plt.show()\n",
    "\n",
    "# Generate Heat \n",
    "\n",
    "create_heatmap(analysis_df.corr(), cmap='YlGnBu', annot=True)"
   ]
  },
  {
   "cell_type": "markdown",
   "id": "ed04feddc7cecf5d",
   "metadata": {},
   "source": [
    "### Overlay Goal Line & Annotate in Matplotlib"
   ]
  },
  {
   "cell_type": "code",
   "execution_count": null,
   "id": "af34facdaeb2e8d",
   "metadata": {
    "ExecuteTime": {
     "end_time": "2025-05-15T19:29:51.451746Z",
     "start_time": "2025-05-15T19:29:51.387246Z"
    }
   },
   "outputs": [],
   "source": [
    "def plot_activity_insulin_goal_matplotlib(\n",
    "    analysis_df,\n",
    "    weekly_col: str = \"Total_Weekly_Mins\",\n",
    "    insulin_col: str = \"Insulin (µU/mL)\",\n",
    "    goal: int = 150,\n",
    "    cap_pct: float = 0.97\n",
    "):\n",
    "    \"\"\"\n",
    "    Scatterplot of weekly activity vs. fasting insulin with:\n",
    "      • A vertical goal line at `goal` minutes\n",
    "      • A vertical cap at the `cap_pct` percentile\n",
    "      • Two clean legends (activity and reference lines)\n",
    "\n",
    "    Returns\n",
    "    -------\n",
    "    fig, ax : matplotlib Figure and Axes objects\n",
    "    \"\"\"\n",
    "\n",
    "    # 1) Copy & cap activity outliers\n",
    "    data = analysis_df.copy()\n",
    "    cap_value = data[weekly_col].quantile(cap_pct)\n",
    "    data['Activity_Capped'] = data[weekly_col].clip(upper=cap_value)\n",
    "\n",
    "    # 2) Add Meets_Goal column if missing\n",
    "    if 'Meets_Goal' not in data.columns:\n",
    "        data['Meets_Goal'] = data[weekly_col] >= goal\n",
    "\n",
    "    # 3) Summary stats\n",
    "    pct_above = data['Meets_Goal'].mean() * 100\n",
    "    pct_below = 100 - pct_above\n",
    "    mean_insulin_above = data.loc[data['Meets_Goal'], insulin_col].mean()\n",
    "    mean_insulin_below = data.loc[~data['Meets_Goal'], insulin_col].mean()\n",
    "    delta_insulin = mean_insulin_above - mean_insulin_below\n",
    "\n",
    "    # 4) Plot setup\n",
    "    fig, ax = plt.subplots(figsize=(10, 6))\n",
    "\n",
    "    # 5) Scatter plot\n",
    "    ax.scatter(\n",
    "        data.loc[~data['Meets_Goal'], 'Activity_Capped'],\n",
    "        data.loc[~data['Meets_Goal'], insulin_col],\n",
    "        color='deepskyblue', alpha=0.6, s=30\n",
    "    )\n",
    "    ax.scatter(\n",
    "        data.loc[data['Meets_Goal'], 'Activity_Capped'],\n",
    "        data.loc[data['Meets_Goal'], insulin_col],\n",
    "        color='orange', alpha=0.6, s=30\n",
    "    )\n",
    "\n",
    "    # 6) Reference lines\n",
    "    ax.axvline(x=goal, color='red', linestyle='--', linewidth=2)\n",
    "    ax.axvline(x=cap_value, color='gray', linestyle=':', linewidth=2)\n",
    "\n",
    "    # 7) Stats annotation\n",
    "    stats_text = (\n",
    "        f\">= {goal} min: {pct_above:.1f}%\\n\"\n",
    "        f\"<  {goal} min: {pct_below:.1f}%\\n\"\n",
    "        f\"Δ Insulin: {delta_insulin:.2f}\"\n",
    "    )\n",
    "    ax.annotate(\n",
    "        stats_text,\n",
    "        xy=(0.95, 0.95), xycoords='axes fraction',\n",
    "        ha='right', va='top',\n",
    "        bbox=dict(boxstyle='round,pad=0.5', fc='white', alpha=0.85)\n",
    "    )\n",
    "\n",
    "    # 8) Activity legend (left)\n",
    "    scatter_handles = [\n",
    "        Line2D([0], [0], marker='o', linestyle='None', color='w',\n",
    "               label=f\">= {goal} min\", markerfacecolor='orange', markersize=8),\n",
    "        Line2D([0], [0], marker='o', linestyle='None', color='w',\n",
    "               label=f\"< {goal} min\", markerfacecolor='deepskyblue', markersize=8)\n",
    "    ]\n",
    "    leg1 = ax.legend(\n",
    "        handles=scatter_handles,\n",
    "        title='Activity Goal',\n",
    "        loc='upper left',\n",
    "        frameon=True,\n",
    "        facecolor='white'\n",
    "    )\n",
    "    ax.add_artist(leg1)\n",
    "\n",
    "    # 9) Reference lines legend (upper centre)\n",
    "    line_handles = [\n",
    "        Line2D([0], [0], color='red', linestyle='--', linewidth=2,\n",
    "               label=f\"{goal} min goal\"),\n",
    "        Line2D([0], [0], color='gray', linestyle=':', linewidth=2,\n",
    "               label=f\"{int(cap_pct * 100)}th percentile ≈ {int(cap_value)} min\")\n",
    "    ]\n",
    "    leg2 = ax.legend(\n",
    "        handles=line_handles,\n",
    "        title='Reference Lines',\n",
    "        loc='upper center',\n",
    "        frameon=True,\n",
    "        facecolor='white'\n",
    "    )\n",
    "    leg2.get_frame().set_alpha(1.0)\n",
    "    leg2.get_frame().set_linewidth(0.5)\n",
    "\n",
    "    # 10) Titles and labels\n",
    "    ax.set_title(\"Weekly Activity vs. Fasting Insulin\\nGoal = 150 min/week, 97th Percentile Cap\")\n",
    "    ax.set_xlabel(f\"Weekly Activity (capped at {int(cap_value)} min)\")\n",
    "    ax.set_ylabel(insulin_col)\n",
    "\n",
    "    plt.tight_layout()\n",
    "    return fig, ax\n",
    "\n",
    "fig, ax = plot_activity_insulin_goal_matplotlib(analysis_df)\n",
    "plt.show()\n"
   ]
  },
  {
   "cell_type": "markdown",
   "id": "bb9e1dfd-7061-4a46-b500-8c2163655ab3",
   "metadata": {},
   "source": [
    "## Step 3: Dashboard Setup & Interactive Widgets"
   ]
  },
  {
   "cell_type": "code",
   "execution_count": null,
   "id": "25c4e6cb-7316-467d-8921-67af417d5514",
   "metadata": {
    "ExecuteTime": {
     "end_time": "2025-05-15T19:29:52.796008Z",
     "start_time": "2025-05-15T19:29:52.791994Z"
    }
   },
   "outputs": [],
   "source": [
    "# --- Dropdowns ---\n",
    "activity_options = ['Moderate_Weekly_Minutes', 'Vigorous_Weekly_Minutes', 'Total Time Sedentary Activities']\n",
    "biomarker_options = [\n",
    "    'Insulin (µU/mL)', 'Fasting Glucose (mg/dl)', 'Glycohemoglobin (%)',\n",
    "    'HDL Cholesterol (mg/dl)', 'Total Cholesterol (mg/dl)', 'HS C-Reactive Protein (mg/L)'\n",
    "]\n",
    "\n",
    "activity_var = widgets.Dropdown(options=activity_options, value='Moderate_Weekly_Minutes', description='Activity:')\n",
    "biomarker_var = widgets.Dropdown(options=biomarker_options, value='Insulin (µU/mL)', description='Biomarker:')"
   ]
  },
  {
   "cell_type": "code",
   "execution_count": null,
   "id": "ae2f41cb-ce2f-4a2e-8b5a-554141b6068d",
   "metadata": {
    "ExecuteTime": {
     "end_time": "2025-05-15T19:29:54.049667Z",
     "start_time": "2025-05-15T19:29:54.041926Z"
    }
   },
   "outputs": [],
   "source": [
    "# --- Dashboard Function ---\n",
    "def update_dashboard(activity, biomarker):\n",
    "    # Filter extreme activity values\n",
    "    filtered_df = analysis_df[\n",
    "        (analysis_df['Moderate_Weekly_Minutes'] <= 1000) &\n",
    "        (analysis_df['Vigorous_Weekly_Minutes'] <= 500) &\n",
    "        (analysis_df['Total Time Sedentary Activities'] <= 1000)\n",
    "    ]\n",
    "\n",
    "    # Create a Gender column for better labeling\n",
    "    filtered_df['Gender'] = filtered_df['Male'].map({0: 'Female', 1: 'Male'})\n",
    "\n",
    "    # Remove Y-axis outliers based on biomarker\n",
    "    if biomarker == 'Insulin (µU/mL)':\n",
    "        filtered_df = filtered_df[filtered_df[biomarker] <= 40]\n",
    "    elif biomarker == 'Fasting Glucose (mg/dl)':\n",
    "        filtered_df = filtered_df[filtered_df[biomarker] <= 180]\n",
    "    elif biomarker == 'Glycohemoglobin (%)':\n",
    "        filtered_df = filtered_df[filtered_df[biomarker] <= 8]\n",
    "    elif biomarker == 'HS C-Reactive Protein (mg/L)':\n",
    "        filtered_df = filtered_df[filtered_df[biomarker] <= 15]\n",
    "\n",
    "    # --- Subplots ---\n",
    "    fig, axs = plt.subplots(2, 2, figsize=(14, 10))\n",
    "    plt.subplots_adjust(hspace=0.4)\n",
    "\n",
    "    # --- Scatter Plot ---\n",
    "    sns.scatterplot(data=filtered_df, x=activity, y=biomarker, hue='Male', ax=axs[0, 0])\n",
    "    sns.regplot(data=filtered_df, x=activity, y=biomarker, scatter=False, ax=axs[0, 0], color='black', line_kws={\"linewidth\": 1})\n",
    "    axs[0, 0].set_title(f'Scatter: {biomarker} vs {activity}')\n",
    "    axs[0, 0].grid(True)\n",
    "\n",
    "    # --- Box Plot ---\n",
    "    sns.boxplot(data=filtered_df, x='Male', y=activity, ax=axs[0, 1])\n",
    "    axs[0, 1].set_title(f'Box Plot: {activity} by Gender')\n",
    "    axs[0, 1].set_xlabel('')\n",
    "    axs[0, 1].set_xticklabels(['Female', 'Male'])\n",
    "    axs[0, 1].grid(True)\n",
    "\n",
    "    # --- Violin Plot ---\n",
    "    sns.violinplot(data=filtered_df, x='Male', y=biomarker, ax=axs[1, 0])\n",
    "    axs[1, 0].set_title(f'Violin: {biomarker} by Gender')\n",
    "    axs[1, 0].set_xlabel('')\n",
    "    axs[1, 0].set_xticklabels(['Female', 'Male'])\n",
    "    axs[1, 0].grid(True)\n",
    "\n",
    "    # --- Jittered Dot Plot ---\n",
    "    sns.stripplot(data=filtered_df, x='Male', y=biomarker, jitter=True, ax=axs[1, 1])\n",
    "    axs[1, 1].set_title(f'Jittered Dot: {biomarker} by Gender')\n",
    "    axs[1, 1].set_xlabel('')\n",
    "    axs[1, 1].set_xticklabels(['Female', 'Male'])\n",
    "    axs[1, 1].grid(True)\n",
    "\n",
    "    plt.tight_layout()\n",
    "    plt.style.use('default')\n",
    "    plt.show()"
   ]
  },
  {
   "cell_type": "code",
   "execution_count": null,
   "id": "b7008b96-d7ce-46fd-b4d5-b4f7811685cb",
   "metadata": {
    "ExecuteTime": {
     "end_time": "2025-05-15T19:29:55.257448Z",
     "start_time": "2025-05-15T19:29:54.980834Z"
    }
   },
   "outputs": [],
   "source": [
    "# --- Layout ---\n",
    "ui = widgets.VBox([activity_var, biomarker_var])\n",
    "out = widgets.interactive_output(update_dashboard, {'activity': activity_var, 'biomarker': biomarker_var})\n",
    "\n",
    "display(ui, out)"
   ]
  },
  {
   "cell_type": "markdown",
   "id": "1918ec50c78b3787",
   "metadata": {},
   "source": [
    "# Descriptions Section\n"
   ]
  },
  {
   "cell_type": "markdown",
   "id": "3b4c4605c9362a3a",
   "metadata": {},
   "source": [
    "## 🧠 Relevance to Human Health\n",
    "\n",
    "**Understanding how physical activity influences key biomarkers is critical for promoting long‑term health.**\n",
    "These markers are directly linked to chronic diseases such as:\n",
    "- **Type 2 Diabetes**\n",
    "- **Cardiovascular Disease**\n",
    "- **Metabolic Syndrome**\n",
    "- **Obesity‑related Inflammation**\n",
    "\n",
    "---\n",
    "\n",
    "## 🔬 Impact of Physical Activity on Biomarkers\n",
    "\n",
    "1. **Insulin (µU/mL)**\n",
    "   - _Effect:_ Improves insulin sensitivity\n",
    "   - _Outcome:_ Lower circulating insulin levels; reduced risk of insulin resistance and type 2 diabetes\n",
    "\n",
    "2. **Fasting Glucose (mg/dL) & HbA1c (%)**\n",
    "   - _Effect:_ Enhances muscle glucose uptake\n",
    "   - _Outcome:_ Better blood glucose control; lower HbA1c values\n",
    "\n",
    "3. **Cholesterol (HDL & Total)**\n",
    "   - _Effect:_ Increases HDL (“good” cholesterol); may reduce LDL and total cholesterol\n",
    "   - _Outcome:_ Improved heart health; reduced cardiovascular risk\n",
    "\n",
    "4. **C‑Reactive Protein (CRP)**\n",
    "   - _Effect:_ Decreases systemic inflammation\n",
    "   - _Outcome:_ Lower CRP levels; protection against chronic diseases and improved immune function\n",
    "\n",
    "5. **Sedentary Time**\n",
    "   - _Effect:_ Excessive sedentary behavior correlates with elevated insulin, worse lipid profiles, and higher CRP\n",
    "   - _Outcome:_ Provides a clear contrast between active and inactive lifestyles"
   ]
  },
  {
   "cell_type": "markdown",
   "id": "4e2fbe2dd5c066c1",
   "metadata": {},
   "source": [
    "\n",
    "\n",
    "## 📊 Market Analysis Layer\n",
    "\n",
    "- **96 million U.S. adults** are prediabetic\n",
    "  → Source: [CDC 2022 National Diabetes Statistics Report](https://www.cdc.gov/diabetes/data/statistics-report/index.html)\n",
    "\n",
    "- **30% adoption** of activity nudges (e.g., walking prompts, step goals)\n",
    "  → From digital health app engagement studies (JAMA, Nature Digital Medicine)\n",
    "\n",
    "- **~5% reduction** in fasting insulin is associated with reduced diabetes risk\n",
    "  → Clinical studies suggest even modest increases in physical activity improve insulin sensitivity\n",
    "\n",
    "- **Assumption:** We reach 1 million preventable cases long term\n",
    "\n",
    "- **Annual direct medical cost of diabetes:** ~$9,600 per person\n",
    "  → Source: [ADA, 2022 Cost of Diabetes Report](https://diabetesjournals.org/care/article/46/4/454/148746)\n",
    "\n",
    "- **Estimated cost savings:**\n",
    "  - 1 million cases × \\$8,000–\\$10,000 per person = \\$8–\\$10 billion/year\n",
    "  → Source: [ADA, 2022 Cost of Diabetes Report](https://diabetesjournals.org/care/article/46/4/454/148746)\n",
    "\n",
    "\n",
    "\n",
    "\n"
   ]
  },
  {
   "cell_type": "code",
   "execution_count": null,
   "id": "fdcd940655113ae4",
   "metadata": {},
   "outputs": [],
   "source": []
  }
 ],
 "metadata": {
  "kernelspec": {
   "display_name": "Python 3.10 (ipykernel)",
   "language": "python",
   "name": "python3"
  },
  "language_info": {
   "codemirror_mode": {
    "name": "ipython",
    "version": 3
   },
   "file_extension": ".py",
   "mimetype": "text/x-python",
   "name": "python",
   "nbconvert_exporter": "python",
   "pygments_lexer": "ipython3",
   "version": "3.10.11"
  }
 },
 "nbformat": 4,
 "nbformat_minor": 5
}
